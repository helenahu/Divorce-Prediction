{
 "cells": [
  {
   "cell_type": "code",
   "execution_count": 2,
   "metadata": {},
   "outputs": [],
   "source": [
    "import numpy as np\n",
    "class Perceptron(object):\n",
    "\n",
    "    \"\"\"Perceptron classifier.\n",
    "    Parameters\n",
    "    ------------\n",
    "    eta : float\n",
    "    Learning rate (between 0.0 and 1.0)\n",
    "    n_iter : int\n",
    "    Passes over the training dataset.\n",
    "    \n",
    "    Attributes\n",
    "    -----------\n",
    "    w_ : 1d-array\n",
    "    Weights after fitting.\n",
    "    errors_ : list\n",
    "    Number of misclassifications in every epoch.\n",
    "    \"\"\"\n",
    "    \n",
    "    def __init__(self, eta=0.01, n_iter=10):\n",
    "        self.eta = eta\n",
    "        self.n_iter = n_iter\n",
    "    \n",
    "    def net_input(self, X):\n",
    "        \"\"\"Calculate net input\"\"\"\n",
    "        return np.dot(X, self.w_[1:]) + self.w_[0]\n",
    "            \n",
    "    def predict(self, X):\n",
    "        \"\"\"Return class label after unit step\"\"\"\n",
    "        return np.where(self.net_input(X) >= 0.0, 1, -1)\n",
    "        \n",
    "    def fit(self, X, y):\n",
    "        \"\"\"Fit training data.\n",
    "        Parameters\n",
    "        ----------\n",
    "        X : {array-like}, shape = [n_samples, n_features]\n",
    "        Training vectors, where n_samples\n",
    "        is the number of samples and\n",
    "        n_features is the number of features.\n",
    "        y : array-like, shape = [n_samples]\n",
    "        Target values.\n",
    "        Returns\n",
    "        -------\n",
    "        self : object\n",
    "        \"\"\"\n",
    "        \n",
    "        self.w_ = np.zeros(1 + X.shape[1])\n",
    "        self.errors_ = []\n",
    "        for _ in range(self.n_iter):\n",
    "            errors = 0\n",
    "            for xi, target in zip(X, y):\n",
    "                update = self.eta * (target - self.predict(xi))\n",
    "                self.w_[1:] += update * xi\n",
    "                self.w_[0] += update\n",
    "                errors += int(update != 0.0)\n",
    "            self.errors_.append(errors)\n",
    "        return self\n",
    "        \n",
    "        \n"
   ]
  },
  {
   "cell_type": "code",
   "execution_count": 152,
   "metadata": {},
   "outputs": [],
   "source": [
    "\n",
    "import pandas as pd\n",
    "import matplotlib.pyplot as plt\n",
    "import numpy as np\n",
    "\n",
    "\n",
    "raw_df = pd.read_csv('https://raw.githubusercontent.com/helenahu/Divorce-Prediction/master/divorce.csv')\n",
    "data_matrix = []\n",
    "for i in range(170):\n",
    "    row = list(map(lambda x: int(x), raw_df.iloc[i,0].split(';') ))\n",
    "    data_matrix.append(row)\n",
    "df = pd.DataFrame(data_matrix)\n",
    "df=df.sample(frac=1)\n",
    "train_y = df.iloc[:34,54].values\n",
    "test_y = df.iloc[34:,54].values\n",
    "train_y = np.where(train_y==1,1,-1)\n",
    "test_y = np.where(test_y==1,1,-1)\n",
    "train_X = df.iloc[:34,:53].values\n",
    "test_X = df.iloc[34:,:53].values\n"
   ]
  },
  {
   "cell_type": "code",
   "execution_count": 66,
   "metadata": {},
   "outputs": [
    {
     "data": {
      "image/png": "[encoded data removed]",
      "text/plain": [
       "<Figure size 432x288 with 1 Axes>"
      ]
     },
     "metadata": {
      "needs_background": "light"
     },
     "output_type": "display_data"
    }
   ],
   "source": [
    "ppn = Perceptron(eta = 0.5, n_iter = 20)\n",
    "ppn.fit(train_X,train_y)\n",
    "plt.plot(range(1,len(ppn.errors_)+1),ppn.errors_,marker='o')\n",
    "plt.xlabel('Epochs')\n",
    "plt.ylabel('Number of Misclassifications')\n",
    "plt.show()"
   ]
  },
  {
   "cell_type": "code",
   "execution_count": 118,
   "metadata": {},
   "outputs": [
    {
     "name": "stdout",
     "output_type": "stream",
     "text": [
      "Perceptron Learning: \n",
      " train/test: 63%/37% \n",
      " train_ error_rate: 0.9779411764705882\n",
      "\n",
      "Most significant 10 aspects that leads to divorce (Perceptron Result):\n",
      "1. When I talk to my spouse about something, my calm suddenly breaks.\n",
      "2. My discussion with my spouse is not calm.\n",
      "3. I can be humiliating when we discussions.\n",
      "4. I feel right in our discussions.\n",
      "5. Our discussions often occur suddenly.\n",
      "6. I know my spouse's hopes and wishes.\n",
      "7. I can tell you what kind of stress my spouse is facing in her/his life.\n",
      "8. My spouse and I have similar values in trust.\n",
      "9. My spouse and I have similar ideas about how marriage should be\n",
      "10. We're compatible with my spouse about what love should be.\n"
     ]
    }
   ],
   "source": [
    "import urllib\n",
    "\n",
    "# print prediction result\n",
    "predict_y = ppn.predict(test_X)\n",
    "print('Perceptron Learning: \\n train/test: 63%/37% \\n train_ error_rate:',list(test_y - predict_y).count(0)/len(test_y))\n",
    "print()\n",
    "txt = urllib.request.urlopen('https://raw.githubusercontent.com/helenahu/Divorce-Prediction/master/attr.txt').read()\n",
    "attr = txt.decode().split('\\n')\n",
    "attr.pop()\n",
    "seq = sorted(list(enumerate(ppn.w_)),key=lambda x: x[1])\n",
    "print('Most significant 10 aspects that leads to divorce (Perceptron Result):')\n",
    "for i in range(1,11):\n",
    "    print(i,'. ',attr[seq[-i][0]].split('. ')[1],sep='')\n"
   ]
  },
  {
   "cell_type": "code",
   "execution_count": 145,
   "metadata": {},
   "outputs": [],
   "source": [
    "class AdalineGD(object):\n",
    "    '''ADAptive LInear NEuron classifier.\n",
    "    \n",
    "    Parameters\n",
    "    ------------\n",
    "    eta: float \n",
    "        Learning rate (between 0.0 and 1.0)\n",
    "    n_iter: int\n",
    "        Passes over the training dataset.\n",
    "        \n",
    "    Attributes\n",
    "    ------------\n",
    "    w_: 1d-array\n",
    "        Weights after fitting.\n",
    "    errors_ : list\n",
    "        Number of misclassifications in every epoch.\n",
    "    '''\n",
    "    def __init__(self, eta=0.01, n_iter=50):\n",
    "        self.eta = eta\n",
    "        self.n_iter = n_iter\n",
    "        \n",
    "    def net_input(self,X):\n",
    "        \"\"\"Calculate net input\"\"\"\n",
    "        return np.dot(X, self.w_[1:]) + self.w_[0]\n",
    "        \n",
    "    def fit(self, X, y):\n",
    "        '''Fit training data.\n",
    "        \n",
    "        Parameters\n",
    "        ------------------\n",
    "        X: {array-like}, shape = [n_samples, n_features]\n",
    "            Training vectors,\n",
    "            where n_samples is the number of samples and n_features is the number of features.\n",
    "        y: array-like, shape = [n_samples]\n",
    "            Target values.\n",
    "            \n",
    "        Returns\n",
    "        ---------------\n",
    "        self: object\n",
    "        '''\n",
    "        self.w_ = np.zeros(1+X.shape[1])\n",
    "        self.cost_ = []\n",
    "        \n",
    "        for i in range(self.n_iter):\n",
    "            output = self.net_input(X)\n",
    "            errors = (y-output)\n",
    "            self.w_[1:] += self.eta * X.T.dot(errors)\n",
    "            self.w_[0] += self.eta * errors.sum()\n",
    "            cost = (errors**2).sum()/2.0\n",
    "            self.cost_.append(cost)\n",
    "        return self\n",
    "    \n",
    "    def activation(self, X):\n",
    "        \"\"\"Compute linear activation\"\"\"\n",
    "        return self.net_input(X)\n",
    "    \n",
    "    def predict(self, X):\n",
    "        \"\"\"Return class label after unit step\"\"\"\n",
    "        return np.where(self.activation(X) >= 0.0, 1, -1) "
   ]
  },
  {
   "cell_type": "code",
   "execution_count": 146,
   "metadata": {},
   "outputs": [
    {
     "data": {
      "image/png": "[encoded data removed]",
      "text/plain": [
       "<Figure size 432x288 with 1 Axes>"
      ]
     },
     "metadata": {
      "needs_background": "light"
     },
     "output_type": "display_data"
    }
   ],
   "source": [
    "ada = AdalineGD(eta = 0.0002, n_iter = 200).fit(train_X,train_y)\n",
    "plt.plot(range(1, len(ada.cost_)+1),ada.cost_,marker = 'o')\n",
    "plt.xlabel('Epochs')\n",
    "plt.ylabel('Sum-square-error')\n",
    "plt.title('Adaline - Learning rate 0.0002 - iter 200 - no scaling')\n",
    "plt.show()"
   ]
  },
  {
   "cell_type": "code",
   "execution_count": 148,
   "metadata": {},
   "outputs": [
    {
     "name": "stdout",
     "output_type": "stream",
     "text": [
      "Adaptive Linear Neuron (no scaling): \n",
      " train/test: 63%/37% \n",
      " train_ error_rate: 0.9632352941176471\n",
      "\n",
      "Most significant 10 aspects that leads to divorce (Adaline Result):\n",
      "1. When I talk to my spouse about something, my calm suddenly breaks.\n",
      "2. My discussion with my spouse is not calm.\n",
      "3. I can be humiliating when we discussions.\n",
      "4. I feel right in our discussions.\n",
      "5. Our discussions often occur suddenly.\n",
      "6. I know my spouse's hopes and wishes.\n",
      "7. I can tell you what kind of stress my spouse is facing in her/his life.\n",
      "8. My spouse and I have similar values in trust.\n",
      "9. My spouse and I have similar ideas about how marriage should be\n",
      "10. We're compatible with my spouse about what love should be.\n"
     ]
    }
   ],
   "source": [
    "import urllib\n",
    "\n",
    "# print prediction result\n",
    "a_predict_y = ada.predict(test_X)\n",
    "print('Adaptive Linear Neuron (no scaling): \\n train/test: 63%/37% \\n train_ error_rate:',list(test_y - a_predict_y).count(0)/len(test_y))\n",
    "print()\n",
    "txt = urllib.request.urlopen('https://raw.githubusercontent.com/helenahu/Divorce-Prediction/master/attr.txt').read()\n",
    "attr = txt.decode().split('\\n')\n",
    "attr.pop()\n",
    "seq = sorted(list(enumerate(ppn.w_)),key=lambda x: x[1])\n",
    "print('Most significant 10 aspects that leads to divorce (Adaline Result):')\n",
    "for i in range(1,11):\n",
    "    print(i,'. ',attr[seq[-i][0]].split('. ')[1],sep='')\n"
   ]
  },
  {
   "cell_type": "code",
   "execution_count": 153,
   "metadata": {},
   "outputs": [],
   "source": [
    "#Feature Scaling -- standardization\n",
    "\n",
    "X_std = np.copy(train_X)\n",
    "for i in range(X_std.shape[1]):\n",
    "    X_std[:,i] = (train_X[:,i] - train_X[:,i].mean()) / train_X[:,i].std()\n",
    "test_X_std = np.copy(test_X)\n",
    "for i in range(test_X.shape[1]):\n",
    "    test_X_std[:,i] = (test_X[:,i] - test_X[:,i].mean()) / test_X[:,i].std()\n",
    "\n"
   ]
  },
  {
   "cell_type": "code",
   "execution_count": 157,
   "metadata": {},
   "outputs": [
    {
     "data": {
      "image/png": "[encoded data removed]",
      "text/plain": [
       "<Figure size 432x288 with 1 Axes>"
      ]
     },
     "metadata": {
      "needs_background": "light"
     },
     "output_type": "display_data"
    }
   ],
   "source": [
    "#train it again after standardization\n",
    "ada2 = AdalineGD(n_iter = 200, eta = 0.001)\n",
    "ada2.fit(X_std,train_y)\n",
    "\n",
    "plt.plot(range(1, len(ada.cost_)+1),ada.cost_, marker = 'o')\n",
    "plt.xlabel('Epochs')\n",
    "plt.ylabel('Sum-squared-error')\n",
    "plt.title('Adaline - Learning rate 0.001 - iter 200 - w/ scaling')\n",
    "plt.show()"
   ]
  },
  {
   "cell_type": "code",
   "execution_count": 158,
   "metadata": {},
   "outputs": [
    {
     "name": "stdout",
     "output_type": "stream",
     "text": [
      "Adaptive Linear Neuron (w/ scaling): \n",
      " train/test: 63%/37% \n",
      " train_ error_rate: 0.9264705882352942\n",
      "\n",
      "Most significant 10 aspects that leads to divorce (Adaline Result w/ scaling):\n",
      "1. When I talk to my spouse about something, my calm suddenly breaks.\n",
      "2. My discussion with my spouse is not calm.\n",
      "3. I can be humiliating when we discussions.\n",
      "4. I feel right in our discussions.\n",
      "5. Our discussions often occur suddenly.\n",
      "6. I know my spouse's hopes and wishes.\n",
      "7. I can tell you what kind of stress my spouse is facing in her/his life.\n",
      "8. My spouse and I have similar values in trust.\n",
      "9. My spouse and I have similar ideas about how marriage should be\n",
      "10. We're compatible with my spouse about what love should be.\n"
     ]
    }
   ],
   "source": [
    "import urllib\n",
    "\n",
    "# print prediction result\n",
    "as_predict_y = ada2.predict(test_X_std)\n",
    "print('Adaptive Linear Neuron (w/ scaling): \\n train/test: 63%/37% \\n train_ error_rate:',list(test_y - as_predict_y).count(0)/len(test_y))\n",
    "print()\n",
    "\n",
    "seq = sorted(list(enumerate(ppn.w_)),key=lambda x: x[1])\n",
    "print('Most significant 10 aspects that leads to divorce (Adaline Result w/ scaling):')\n",
    "for i in range(1,11):\n",
    "    print(i,'. ',attr[seq[-i][0]].split('. ')[1],sep='')\n"
   ]
  }
 ],
 "metadata": {
  "kernelspec": {
   "display_name": "Python 3",
   "language": "python",
   "name": "python3"
  },
  "language_info": {
   "codemirror_mode": {
    "name": "ipython",
    "version": 3
   },
   "file_extension": ".py",
   "mimetype": "text/x-python",
   "name": "python",
   "nbconvert_exporter": "python",
   "pygments_lexer": "ipython3",
   "version": "3.7.6"
  }
 },
 "nbformat": 4,
 "nbformat_minor": 4
}
